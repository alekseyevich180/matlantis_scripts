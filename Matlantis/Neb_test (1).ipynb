{
 "cells": [
  {
   "cell_type": "markdown",
   "metadata": {},
   "source": [
    "Copyright ENEOS, Corp., Preferred Computational Chemistry, Inc. and Preferred Networks, Inc. as contributors to Matlantis contrib project\n",
    "\n",
    "# 不均一系触媒上の反応解析（NEB法）\n",
    "\n",
    "\n",
    "目次:\n",
    " - **[1. BulkからSlab作成](#chap1)**\n",
    " - **[2. MoleculeをSlab上に配置、始状態（反応前）と終状態（反応後）を作成](#chap2)**\n",
    " - **[3. NEB計算](#chap3)**\n",
    " - **[4. NEB計算結果の確認と遷移状態構造取得](#chap4)**\n",
    " - **[5. 遷移状態構造の構造最適化（by Sella）](#chap5)**\n",
    " - **[6. 遷移状態の振動解析](#chap6)**\n",
    " - **[7. 遷移状態からの追加解析（擬似IRC計算）](#chap7)**"
   ]
  },
  {
   "cell_type": "markdown",
   "metadata": {},
   "source": [
    "<a id=\"chap0\"></a>\n",
    "## セットアップ"
   ]
  },
  {
   "cell_type": "code",
   "execution_count": null,
   "metadata": {},
   "outputs": [],
   "source": [
    "# time.sleep(3600*10)\n",
    "# # notebookで1.5時間無処理状態が続きますとkernelが自動でshutdownします。\n",
    "# # kernelを保持したい場合に上の行の#を外して実行してください。"
   ]
  },
  {
   "cell_type": "code",
   "execution_count": null,
   "metadata": {},
   "outputs": [],
   "source": [
    "!pip install pfp-api-client\n",
    "!pip install pandas tqdm matplotlib seaborn optuna sella scikit-learn torch torch_dftd\n",
    "\n",
    "# # 初回使用時のみ、ライブラリのインストールをお願いします。"
   ]
  },
  {
   "cell_type": "code",
   "execution_count": null,
   "metadata": {},
   "outputs": [],
   "source": [
    "#from ase.neb import SingleCalculatorNEB\n",
    "from ase.calculators.dftd3 import DFTD3\n",
    "from ase.mep import neb"
   ]
  },
  {
   "cell_type": "code",
   "execution_count": null,
   "metadata": {},
   "outputs": [],
   "source": [
    "# 汎用モジュール\n",
    "import numpy as np\n",
    "import pandas as pd\n",
    "from tqdm import tqdm_notebook as tqdm\n",
    "from IPython.display import display_png\n",
    "from IPython.display import Image as ImageWidget\n",
    "import ipywidgets as widgets\n",
    "import matplotlib as mpl\n",
    "import matplotlib.pyplot as plt\n",
    "from mpl_toolkits.mplot3d import Axes3D\n",
    "from matplotlib.widgets import Slider\n",
    "from matplotlib.animation import PillowWriter\n",
    "import seaborn as sns\n",
    "import math\n",
    "import optuna\n",
    "import nglview as nv\n",
    "import os,sys,csv,glob,shutil,re,time\n",
    "from pathlib import Path\n",
    "from PIL import Image, ImageDraw\n",
    "\n",
    "# sklearn\n",
    "from sklearn.metrics import mean_absolute_error\n",
    "\n",
    "\n",
    "# ASE\n",
    "import ase\n",
    "from ase import Atoms, units\n",
    "from ase.units import Bohr,Rydberg,kJ,kB,fs,Hartree,mol,kcal\n",
    "from ase.io import read, write\n",
    "from ase.build import surface, molecule, add_adsorbate\n",
    "from ase.cluster.cubic import FaceCenteredCubic\n",
    "from ase.constraints import FixAtoms, FixedPlane, FixBondLength, ExpCellFilter\n",
    "#from ase.neb import SingleCalculatorNEB\n",
    "from ase.neb import NEB\n",
    "from ase.vibrations import Vibrations\n",
    "from ase.visualize import view\n",
    "from ase.optimize import QuasiNewton\n",
    "from ase.thermochemistry import IdealGasThermo\n",
    "from ase.build.rotate import minimize_rotation_and_translation\n",
    "from ase.visualize import view\n",
    "from ase.optimize import BFGS, LBFGS, FIRE\n",
    "from ase.md.velocitydistribution import MaxwellBoltzmannDistribution, Stationary\n",
    "from ase.md.verlet import VelocityVerlet\n",
    "from ase.md.langevin import Langevin\n",
    "from ase.md.nptberendsen import NPTBerendsen, Inhomogeneous_NPTBerendsen\n",
    "from ase.md import MDLogger\n",
    "from ase.io import read, write, Trajectory\n",
    "# from ase.calculators.dftd3 import DFTD3\n",
    "from ase.build import sort\n",
    "\n",
    "from sella import Sella, Constraints\n",
    "from torch_dftd.torch_dftd3_calculator import TorchDFTD3Calculator\n",
    "\n",
    "# PFP\n",
    "from pfp_api_client.pfp.calculators.ase_calculator import ASECalculator\n",
    "from pfp_api_client.pfp.estimator import Estimator\n",
    "from pfp_api_client.pfp.estimator import EstimatorCalcMode\n",
    "\n",
    "estimator = Estimator(calc_mode=\"CRYSTAL\")\n",
    "calculator = ASECalculator(estimator)"
   ]
  },
  {
   "cell_type": "code",
   "execution_count": null,
   "metadata": {},
   "outputs": [],
   "source": [
    "# このセルはexperimental, unexpectedな元素の計算を行う際にでるwarningを抑制するためのコマンドです。必要なときのみ実行してください。\n",
    "# from pfp_api_client.utils.messages import MessageEnum\n",
    "# estimator.set_message_status(message=MessageEnum.ExperimentalElementWarning, message_enable=False)\n",
    "# estimator.set_message_status(message=MessageEnum.UnexpectedElementWarning, message_enable=False)"
   ]
  },
  {
   "cell_type": "code",
   "execution_count": null,
   "metadata": {},
   "outputs": [],
   "source": [
    "def myopt(m,sn = 10,constraintatoms=[],cbonds=[]):\n",
    "    fa = FixAtoms(indices=constraintatoms)\n",
    "    fb = FixBondLengths(cbonds,tolerance=1e-5,)\n",
    "    m.set_constraint([fa,fb])\n",
    "    m.set_calculator(calculator)\n",
    "    maxf = np.sqrt(((m.get_forces())**2).sum(axis=1).max())\n",
    "    print(\"ini   pot:{:.4f},maxforce:{:.4f}\".format(m.get_potential_energy(),maxf))\n",
    "    de = -1 \n",
    "    s = 1\n",
    "    ita = 50\n",
    "    while ( de  < -0.001 or de > 0.001 ) and s <= sn :\n",
    "        opt = BFGS(m,maxstep=0.04*(0.9**s),logfile=None)\n",
    "        old  =  m.get_potential_energy() \n",
    "        opt.run(fmax=0.0005,steps =ita)\n",
    "        maxf = np.sqrt(((m.get_forces())**2).sum(axis=1).max())\n",
    "        de =  m.get_potential_energy()  - old\n",
    "        print(\"{} pot:{:.4f},maxforce:{:.4f},delta:{:.4f}\".format(s*ita,m.get_potential_energy(),maxf,de))\n",
    "        s += 1\n",
    "    return m\n",
    "\n",
    "def opt_cell_size(m,sn = 10, iter_count = False): # m:Atomsオブジェクト\n",
    "    m.set_constraint() # clear constraint\n",
    "    m.set_calculator(calculator)\n",
    "    maxf = np.sqrt(((m.get_forces())**2).sum(axis=1).max()) # √(fx^2 + fy^2 + fz^2)の一番大きいものを取得\n",
    "    ucf = ExpCellFilter(m)\n",
    "    print(\"ini   pot:{:.4f},maxforce:{:.4f}\".format(m.get_potential_energy(),maxf))\n",
    "    de = -1 \n",
    "    s = 1\n",
    "    ita = 50\n",
    "    while ( de  < -0.01 or de > 0.01 ) and s <= sn :\n",
    "        opt = BFGS(ucf,maxstep=0.04*(0.9**s),logfile=None)\n",
    "        old  =  m.get_potential_energy() \n",
    "        opt.run(fmax=0.005,steps =ita)\n",
    "        maxf = np.sqrt(((m.get_forces())**2).sum(axis=1).max())\n",
    "        de =  m.get_potential_energy()  - old\n",
    "        print(\"{} pot:{:.4f},maxforce:{:.4f},delta:{:.4f}\".format(s*ita,m.get_potential_energy(),maxf,de))\n",
    "        s += 1\n",
    "    if iter_count == True:\n",
    "        return m, s*ita\n",
    "    else:\n",
    "        return m\n",
    "    \n",
    "#表面を作る\n",
    "def makesurface(atoms,miller_indices=(1,1,1),layers=4,rep=[4,4,1]):\n",
    "    s1 = surface(atoms, miller_indices,layers)\n",
    "    s1.center(vacuum=20.0, axis=2)\n",
    "    s1 = s1.repeat(rep)\n",
    "    s1.set_positions(s1.get_positions() - [0,0,min(s1.get_positions()[:,2])])\n",
    "    s1.pbc = True\n",
    "    return s1"
   ]
  },
  {
   "cell_type": "code",
   "execution_count": null,
   "metadata": {},
   "outputs": [],
   "source": [
    "import threading\n",
    "import time\n",
    "from math import pi\n",
    "from typing import Dict, List, Optional\n",
    "\n",
    "import nglview as nv\n",
    "from ase import Atoms\n",
    "from ase.constraints import FixAtoms\n",
    "from ase.optimize import BFGS\n",
    "from ase.visualize import view\n",
    "from IPython.display import display\n",
    "from ipywidgets import (\n",
    "    Button,\n",
    "    Checkbox,\n",
    "    FloatSlider,\n",
    "    GridspecLayout,\n",
    "    HBox,\n",
    "    IntSlider,\n",
    "    Label,\n",
    "    Text,\n",
    "    Textarea,\n",
    ")\n",
    "from nglview.widget import NGLWidget\n",
    "\n",
    "\n",
    "def save_image(filename: str, v: NGLWidget):\n",
    "    \"\"\"Save nglview image.\n",
    "\n",
    "    Note that it should be run on another thread.\n",
    "    See: https://github.com/nglviewer/nglview/blob/master/docs/FAQ.md#how-to-make-nglview-view-object-write-png-file\n",
    "\n",
    "    Args:\n",
    "        filename (str):\n",
    "        v (NGLWidget):\n",
    "    \"\"\"\n",
    "    image = v.render_image()\n",
    "    while not image.value:\n",
    "        time.sleep(0.1)\n",
    "    with open(filename, \"wb\") as fh:\n",
    "        fh.write(image.value)\n",
    "\n",
    "\n",
    "class SurfaceEditor:\n",
    "    \"\"\"Structure viewer/editor\"\"\"\n",
    "\n",
    "    struct: List[Dict]  # structure used for nglview drawing.\n",
    "\n",
    "    def __init__(self, atoms: Atoms):\n",
    "        self.atoms = atoms\n",
    "        self.vh = view(atoms, viewer=\"ngl\")\n",
    "        self.v: NGLWidget = self.vh.children[0]  # VIEW\n",
    "        self.v._remote_call(\"setSize\", args=[\"450px\", \"450px\"])\n",
    "        self.recont()  # Add controller\n",
    "        self.set_representation()\n",
    "        self.set_atoms()\n",
    "        self.pots = []\n",
    "        self.traj = []\n",
    "        self.cal_nnp()\n",
    "\n",
    "    def display(self):\n",
    "        display(self.vh)\n",
    "\n",
    "    def recont(self):\n",
    "        self.vh.setatoms = FloatSlider(\n",
    "            min=0, max=50, step=0.1, value=8, description=\"atoms z>\"\n",
    "        )\n",
    "        self.vh.setatoms.observe(self.set_atoms)\n",
    "        self.vh.selected_atoms_label = Label(\"Selected atoms:\")\n",
    "        self.vh.selected_atoms_textarea = Textarea()\n",
    "        selected_atoms_hbox = HBox(\n",
    "            [self.vh.selected_atoms_label, self.vh.selected_atoms_textarea]\n",
    "        )\n",
    "        self.vh.move = FloatSlider(\n",
    "            min=0.1, max=2, step=0.1, value=0.5, description=\"move\"\n",
    "        )\n",
    "\n",
    "        grid1 = GridspecLayout(2, 3)\n",
    "        self.vh.xplus = Button(description=\"X+\")\n",
    "        self.vh.xminus = Button(description=\"X-\")\n",
    "        self.vh.yplus = Button(description=\"Y+\")\n",
    "        self.vh.yminus = Button(description=\"Y-\")\n",
    "        self.vh.zplus = Button(description=\"Z+\")\n",
    "        self.vh.zminus = Button(description=\"Z-\")\n",
    "        self.vh.xplus.on_click(self.move)\n",
    "        self.vh.xminus.on_click(self.move)\n",
    "        self.vh.yplus.on_click(self.move)\n",
    "        self.vh.yminus.on_click(self.move)\n",
    "        self.vh.zplus.on_click(self.move)\n",
    "        self.vh.zminus.on_click(self.move)\n",
    "        grid1[0, 0] = self.vh.xplus\n",
    "        grid1[0, 1] = self.vh.yplus\n",
    "        grid1[0, 2] = self.vh.zplus\n",
    "        grid1[1, 0] = self.vh.xminus\n",
    "        grid1[1, 1] = self.vh.yminus\n",
    "        grid1[1, 2] = self.vh.zminus\n",
    "\n",
    "        self.vh.rotate = FloatSlider(\n",
    "            min=1, max=90, step=1, value=30, description=\"rotate\"\n",
    "        )\n",
    "        grid2 = GridspecLayout(2, 3)\n",
    "        self.vh.xplus2 = Button(description=\"X+\")\n",
    "        self.vh.xminus2 = Button(description=\"X-\")\n",
    "        self.vh.yplus2 = Button(description=\"Y+\")\n",
    "        self.vh.yminus2 = Button(description=\"Y-\")\n",
    "        self.vh.zplus2 = Button(description=\"Z+\")\n",
    "        self.vh.zminus2 = Button(description=\"Z-\")\n",
    "        self.vh.xplus2.on_click(self.rotate)\n",
    "        self.vh.xminus2.on_click(self.rotate)\n",
    "        self.vh.yplus2.on_click(self.rotate)\n",
    "        self.vh.yminus2.on_click(self.rotate)\n",
    "        self.vh.zplus2.on_click(self.rotate)\n",
    "        self.vh.zminus2.on_click(self.rotate)\n",
    "        grid2[0, 0] = self.vh.xplus2\n",
    "        grid2[0, 1] = self.vh.yplus2\n",
    "        grid2[0, 2] = self.vh.zplus2\n",
    "        grid2[1, 0] = self.vh.xminus2\n",
    "        grid2[1, 1] = self.vh.yminus2\n",
    "        grid2[1, 2] = self.vh.zminus2\n",
    "\n",
    "        self.vh.nnptext = Textarea(disabled=True)\n",
    "\n",
    "        self.vh.opt_step = IntSlider(\n",
    "            min=0,\n",
    "            max=100,\n",
    "            step=1,\n",
    "            value=10,\n",
    "            description=\"Opt steps\",\n",
    "        )\n",
    "        self.vh.constraint_checkbox = Checkbox(\n",
    "            value=True,\n",
    "            description=\"Opt only selected atoms\",\n",
    "        )\n",
    "        self.vh.run_opt_button = Button(\n",
    "            description=\"Run mini opt\",\n",
    "            tooltip=\"Execute BFGS optimization with small step update.\"\n",
    "        )\n",
    "        self.vh.run_opt_button.on_click(self.run_opt)\n",
    "        opt_hbox = HBox([self.vh.constraint_checkbox, self.vh.run_opt_button])\n",
    "\n",
    "        self.vh.filename_text = Text(value=\"screenshot.png\", description=\"filename: \")\n",
    "        self.vh.download_image_button = Button(\n",
    "            description=\"download image\",\n",
    "            tooltip=\"Download current frame to your local PC\",\n",
    "        )\n",
    "        self.vh.download_image_button.on_click(self.download_image)\n",
    "        self.vh.save_image_button = Button(\n",
    "            description=\"save image\",\n",
    "            tooltip=\"Save current frame to file.\\n\"\n",
    "                    \"Currently .png and .html are supported.\\n\"\n",
    "                    \"It takes a bit time, please be patient.\",\n",
    "        )\n",
    "        self.vh.save_image_button.on_click(self.save_image)\n",
    "\n",
    "        self.vh.update_display = Button(\n",
    "            description=\"update_display\",\n",
    "            tooltip=\"Refresh display. It can be used when target atoms is updated in another cell..\",\n",
    "        )\n",
    "        self.vh.update_display.on_click(self.update_display)\n",
    "\n",
    "        r = list(self.vh.control_box.children)\n",
    "        r += [\n",
    "            self.vh.setatoms,\n",
    "            selected_atoms_hbox,\n",
    "            self.vh.move,\n",
    "            grid1,\n",
    "            self.vh.rotate,\n",
    "            grid2,\n",
    "            self.vh.nnptext,\n",
    "            self.vh.opt_step,\n",
    "            opt_hbox,\n",
    "            self.vh.filename_text,\n",
    "            HBox([self.vh.download_image_button, self.vh.save_image_button]),\n",
    "            self.vh.update_display,\n",
    "        ]\n",
    "        self.vh.control_box.children = tuple(r)\n",
    "\n",
    "    def set_representation(self, bcolor: str = \"white\", unitcell: bool = True):\n",
    "        self.v.background = bcolor\n",
    "        self.struct = self.get_struct(self.atoms)\n",
    "        self.v.add_representation(repr_type=\"ball+stick\")\n",
    "        self.v.control.spin([0, 1, 0], pi * 1.1)\n",
    "        self.v.control.spin([1, 0, 0], -pi * 0.45)\n",
    "        thread = threading.Thread(target=self.changestr)\n",
    "        thread.start()\n",
    "\n",
    "    def changestr(self):\n",
    "        time.sleep(2)\n",
    "        self.v._remote_call(\"replaceStructure\", target=\"Widget\", args=self.struct)\n",
    "\n",
    "    def get_struct(self, atoms: Atoms, ext=\"pdb\") -> List[Dict]:\n",
    "        struct = nv.ASEStructure(atoms, ext=ext).get_structure_string()\n",
    "        for c in range(len(atoms)):\n",
    "            struct = struct.replace(\"MOL     1\", \"M0    \" + str(c).zfill(3), 1)\n",
    "        struct = [dict(data=struct, ext=ext)]\n",
    "        return struct\n",
    "\n",
    "    def cal_nnp(self):\n",
    "        pot = self.atoms.get_potential_energy()\n",
    "        mforce = (((self.atoms.get_forces()) ** 2).sum(axis=1).max()) ** 0.5\n",
    "        self.pot = pot\n",
    "        self.mforce = mforce\n",
    "        self.vh.nnptext.value = f\"pot energy: {pot} eV\\nmax force : {mforce} eV/A\"\n",
    "        self.pots += [pot]\n",
    "        self.traj += [self.atoms.copy()]\n",
    "\n",
    "    def update_display(self, clicked_button: Optional[Button] = None):\n",
    "        print(\"update display!\")\n",
    "        struct = self.get_struct(self.atoms)\n",
    "        self.struct = struct\n",
    "        self.v._remote_call(\"replaceStructure\", target=\"Widget\", args=struct)\n",
    "        self.cal_nnp()\n",
    "\n",
    "    def set_atoms(self, slider: Optional[FloatSlider] = None):\n",
    "        \"\"\"Update text area based on the atoms position `z` greater than specified value.\"\"\"\n",
    "        smols = [\n",
    "            i for i, atom in enumerate(self.atoms) if atom.z >= self.vh.setatoms.value\n",
    "        ]\n",
    "        self.vh.selected_atoms_textarea.value = \", \".join(map(str, smols))\n",
    "\n",
    "    def get_selected_atom_indices(self) -> List[int]:\n",
    "        selected_atom_indices = self.vh.selected_atoms_textarea.value.split(\",\")\n",
    "        selected_atom_indices = [int(a) for a in selected_atom_indices]\n",
    "        return selected_atom_indices\n",
    "\n",
    "    def move(self, clicked_button: Button):\n",
    "        a = self.vh.move.value\n",
    "\n",
    "        for index in self.get_selected_atom_indices():\n",
    "            if clicked_button.description == \"X+\":\n",
    "                self.atoms[index].position += [a, 0, 0]\n",
    "            elif clicked_button.description == \"X-\":\n",
    "                self.atoms[index].position -= [a, 0, 0]\n",
    "            elif clicked_button.description == \"Y+\":\n",
    "                self.atoms[index].position += [0, a, 0]\n",
    "            elif clicked_button.description == \"Y-\":\n",
    "                self.atoms[index].position -= [0, a, 0]\n",
    "            elif clicked_button.description == \"Z+\":\n",
    "                self.atoms[index].position += [0, 0, a]\n",
    "            elif clicked_button.description == \"Z-\":\n",
    "                self.atoms[index].position -= [0, 0, a]\n",
    "        self.update_display()\n",
    "\n",
    "    def rotate(self, clicked_button: Button):\n",
    "        atom_indices = self.get_selected_atom_indices()\n",
    "        deg = self.vh.rotate.value\n",
    "        temp = self.atoms[atom_indices]\n",
    "\n",
    "        if clicked_button.description == \"X+\":\n",
    "            temp.rotate(deg, \"x\", center=\"COP\")\n",
    "        elif clicked_button.description == \"X-\":\n",
    "            temp.rotate(-deg, \"x\", center=\"COP\")\n",
    "        elif clicked_button.description == \"Y+\":\n",
    "            temp.rotate(deg, \"y\", center=\"COP\")\n",
    "        elif clicked_button.description == \"Y-\":\n",
    "            temp.rotate(-deg, \"y\", center=\"COP\")\n",
    "        elif clicked_button.description == \"Z+\":\n",
    "            temp.rotate(deg, \"z\", center=\"COP\")\n",
    "        elif clicked_button.description == \"Z-\":\n",
    "            temp.rotate(-deg, \"z\", center=\"COP\")\n",
    "        rotep = temp.positions\n",
    "        for i, atom in enumerate(atom_indices):\n",
    "            self.atoms[atom].position = rotep[i]\n",
    "        self.update_display()\n",
    "\n",
    "    def run_opt(self, clicked_button: Button):\n",
    "        \"\"\"OPT only specified steps and FIX atoms if NOT in text atoms list\"\"\"\n",
    "        if self.vh.constraint_checkbox.value:\n",
    "            # Fix non selected atoms. Only opt selected atoms.\n",
    "            print(\"Opt with selected atoms: fix non selected atoms\")\n",
    "            atom_indices = self.get_selected_atom_indices()\n",
    "            constraint_atom_indices = [\n",
    "                i for i in range(len(self.atoms)) if i not in atom_indices\n",
    "            ]\n",
    "            self.atoms.set_constraint(FixAtoms(indices=constraint_atom_indices))\n",
    "        opt = BFGS(self.atoms, maxstep=0.04, logfile=None)\n",
    "        steps: Optional[int] = self.vh.opt_step.value\n",
    "        if steps < 0:\n",
    "            steps = None  # When steps=-1, opt until converged.\n",
    "        opt.run(fmax=0.0001, steps=steps)\n",
    "        print(f\"Run opt for {steps} steps\")\n",
    "        self.update_display()\n",
    "\n",
    "    def download_image(self, clicked_button: Optional[Button] = None):\n",
    "        filename = self.vh.filename_text.value\n",
    "        self.v.download_image(filename=filename)\n",
    "\n",
    "    def save_image(self, clicked_button: Optional[Button] = None):\n",
    "        filename = self.vh.filename_text.value\n",
    "        if filename.endswith(\".png\"):\n",
    "            thread = threading.Thread(\n",
    "                target=save_image, args=(filename, self.v), daemon=True\n",
    "            )\n",
    "            # thread.daemon = True\n",
    "            thread.start()\n",
    "        elif filename.endswith(\".html\"):\n",
    "            nv.write_html(filename, [self.v])  # type: ignore\n",
    "        else:\n",
    "            print(f\"filename {filename}: extension not supported!\")\n"
   ]
  },
  {
   "cell_type": "markdown",
   "metadata": {},
   "source": [
    "<a id=\"chap1\"></a>\n",
    "## 1. BulkからSlab作成\n",
    "\n",
    "### 1-1 Bulk構造を読み込みから作成まで\n",
    "\n",
    "今回はMaterials Projectからダウンロードしたcifファイルをinputフォルダに入れて読み込み"
   ]
  },
  {
   "cell_type": "markdown",
   "metadata": {},
   "source": [
    "Input cif file is from  \n",
    "A. Jain*, S.P. Ong*, G. Hautier, W. Chen, W.D. Richards, S. Dacek, S. Cholia, D. Gunter, D. Skinner, G. Ceder, K.A. Persson (*=equal contributions)  \n",
    "The Materials Project: A materials genome approach to accelerating materials innovation\n",
    "APL Materials, 2013, 1(1), 011002.  \n",
    "[doi:10.1063/1.4812323](http://dx.doi.org/10.1063/1.4812323)  \n",
    "[[bibtex]](https://materialsproject.org/static/docs/jain_ong2013.349ca3156250.bib)  \n",
    "Licensed under [CC BY 4.0](https://creativecommons.org/licenses/by/4.0/)  "
   ]
  },
  {
   "cell_type": "code",
   "execution_count": null,
   "metadata": {},
   "outputs": [],
   "source": [
    "bulk = read(\"ZnO.cif\")\n",
    "print(\"Number of atoms =\", len(bulk))\n",
    "print(\"Initial lattice constant =\", bulk.cell.cellpar())\n",
    "\n",
    "bulk.calc = calculator\n",
    "opt = LBFGS(ExpCellFilter(bulk))\n",
    "opt.run()\n",
    "print (\"Optimized lattice constant =\", bulk.cell.cellpar())"
   ]
  },
  {
   "cell_type": "code",
   "execution_count": null,
   "metadata": {},
   "outputs": [],
   "source": [
    "bulk = bulk.repeat([2,2,2])               \n",
    "bulk = sort(bulk)\n",
    "bulk.positions += [0.01,0,0]   # 面を切るときに変なところで切れるのを防ぐために少し下駄を履かせます。\n",
    "v = view(bulk, viewer='ngl')\n",
    "v.view.add_representation(\"ball+stick\")\n",
    "display(v)"
   ]
  },
  {
   "cell_type": "markdown",
   "metadata": {},
   "source": [
    "### 1-2 Slab構造を作成まで\n",
    "\n",
    "bulk構造から任意のミラー指数でslab構造を作成。<br/>\n",
    "`miller_indices=(x,y,z)`で指定できます。 `makesurface` は中で [surface](https://wiki.fysik.dtu.dk/ase//ase/build/surface.html#create-specific-non-common-surfaces) 関数を使用して表面構造を作成しています。"
   ]
  },
  {
   "cell_type": "code",
   "execution_count": null,
   "metadata": {},
   "outputs": [],
   "source": [
    "slab = makesurface(bulk, miller_indices=(0,1,0), layers=2, rep=[2,3,1])\n",
    "slab = sort(slab)\n",
    "slab.positions += [1,1,0]         # 少しだけ位置調整\n",
    "slab.wrap()                       # してからWRAP\n",
    "\n",
    "v = view(slab, viewer='ngl')\n",
    "v.view.add_representation(\"ball+stick\")\n",
    "display(v)"
   ]
  },
  {
   "cell_type": "markdown",
   "metadata": {},
   "source": [
    "### 1-3 作成したslabのz座標を確認\n",
    "\n",
    "slabの最も高い座標確認（吸着構造を作成するときに必要）<br/>\n",
    "slabの層ごとの座標を確認（何層目までを固定するのか決めるのに必要）"
   ]
  },
  {
   "cell_type": "code",
   "execution_count": null,
   "metadata": {},
   "outputs": [],
   "source": [
    "# 原子のz_positionを確認。\n",
    "z_pos = pd.DataFrame({\n",
    "    \"symbol\": slab.get_chemical_symbols(),\n",
    "    \"z\": slab.get_positions()[:, 2]\n",
    "})\n",
    "\n",
    "plt.scatter(z_pos.index, z_pos[\"z\"])\n",
    "plt.grid(True)\n",
    "plt.xlabel(\"atom_index\")\n",
    "plt.ylabel(\"z_position\")\n",
    "plt.show()"
   ]
  },
  {
   "cell_type": "code",
   "execution_count": null,
   "metadata": {},
   "outputs": [],
   "source": [
    "print(\"highest position (z) =\", z_pos[\"z\"].max())"
   ]
  },
  {
   "cell_type": "markdown",
   "metadata": {},
   "source": [
    "### 1-4 表面切り出したslab構造の下層を固定して構造最適化\n",
    "\n",
    "[FixAtoms](https://wiki.fysik.dtu.dk/ase//ase/constraints.html#ase.constraints.FixAtoms) を用いることで、slab構造の下層の原子のみを固定してOptを実行できます。<br/>\n",
    "\n",
    "ここでは１A以下を固定しており、一番下の層のみが固定されます。\n",
    "表面の原子位置が緩和されるはずです。"
   ]
  },
  {
   "cell_type": "code",
   "execution_count": null,
   "metadata": {
    "tags": []
   },
   "outputs": [],
   "source": [
    "%%time\n",
    "c = FixAtoms(indices=[atom.index for atom in slab if atom.position[2] <= 5])       # 1A以下を固定\n",
    "slab.set_constraint(c)\n",
    "slab.calc = calculator\n",
    "\n",
    "os.makedirs(\"output\", exist_ok=True)\n",
    "BFGS_opt = BFGS(slab, trajectory=\"output/slab_opt.traj\")#, logfile=None)\n",
    "BFGS_opt.run(fmax=0.005)"
   ]
  },
  {
   "cell_type": "markdown",
   "metadata": {},
   "source": [
    "実際のOptの経過を見てみると、上3層のみの構造最適化がされている事がわかります。"
   ]
  },
  {
   "cell_type": "code",
   "execution_count": null,
   "metadata": {},
   "outputs": [],
   "source": [
    "# v = view(slab, viewer='ngl')\n",
    "v = view(Trajectory(\"output/slab_opt.traj\"), viewer='ngl')\n",
    "v.view.add_representation(\"ball+stick\")\n",
    "display(v)"
   ]
  },
  {
   "cell_type": "code",
   "execution_count": null,
   "metadata": {},
   "outputs": [],
   "source": [
    "slabE = slab.get_potential_energy()\n",
    "print(f\"slab E = {slabE} eV\")"
   ]
  },
  {
   "cell_type": "code",
   "execution_count": null,
   "metadata": {},
   "outputs": [],
   "source": [
    "# 作成したslab構造を保存\n",
    "os.makedirs(\"structures/\", exist_ok=True)      # structures/というフォルダを作成します。\n",
    "write(\"structures/Slab_ZnO.cif\", slab)      # 任意でファイル名を変更してください。"
   ]
  },
  {
   "cell_type": "markdown",
   "metadata": {},
   "source": [
    "<a id=\"chap2\"></a>\n",
    "## 2. MoleculeをSlab上に配置、始状態（反応前）と終状態（反応後）を作成\n",
    "### 2-1 吸着する分子読み込み、構造最適化後のpotential energyを得ましょう。\n",
    "\n",
    "今回はaseの[molecule module](https://wiki.fysik.dtu.dk/ase/ase/build/build.html)を使います。<br/>\n",
    "cif file, sdf fileなどからの読み込みもbulk構造を読み込みと同じように実施すればできます。"
   ]
  },
  {
   "cell_type": "code",
   "execution_count": null,
   "metadata": {},
   "outputs": [],
   "source": [
    "#print(os.getcwd()) \n",
    "#molec = molecule('NO')\n",
    "molec = read(\"structures/acid.cif\") # sdf fileの読み込み例"
   ]
  },
  {
   "cell_type": "code",
   "execution_count": null,
   "metadata": {},
   "outputs": [],
   "source": [
    "molec.calc = calculator\n",
    "BFGS_opt = BFGS(molec, trajectory=\"output/molec_opt.traj\", logfile=None)\n",
    "BFGS_opt.run(fmax=0.005)\n",
    "molecE = molec.get_potential_energy()\n",
    "print(f\"molecE =　{molecE} eV\")"
   ]
  },
  {
   "cell_type": "code",
   "execution_count": null,
   "metadata": {},
   "outputs": [],
   "source": [
    "v = view(Trajectory(\"output/molec_opt.traj\"), viewer='ngl')\n",
    "v.view.add_representation(\"ball+stick\")\n",
    "display(v)"
   ]
  },
  {
   "cell_type": "markdown",
   "metadata": {},
   "source": [
    "### 2-2 吸着E計算\n",
    "\n",
    "吸着状態を作成しましょう。\n",
    "ここでは、[add_adsorbate](https://wiki.fysik.dtu.dk/ase//ase/build/surface.html#ase.build.add_adsorbate)関数を用いて`slab` 上部に `molec` を配置しています。"
   ]
  },
  {
   "cell_type": "code",
   "execution_count": null,
   "metadata": {},
   "outputs": [],
   "source": [
    "mol_on_slab = slab.copy()\n",
    "\n",
    "# slab最表面から分子を配置する高さと、x,y positionを入力してください。\n",
    "# あとで調整できるので、適当で大丈夫です。\n",
    "add_adsorbate(mol_on_slab, molec, height=3, position=(8, 4))\n",
    "c = FixAtoms(indices=[atom.index for atom in mol_on_slab if atom.position[2] <= 1])\n",
    "mol_on_slab.set_constraint(c)"
   ]
  },
  {
   "cell_type": "markdown",
   "metadata": {},
   "source": [
    "#### SurfaceEditor\n",
    "\n",
    "`SurfaceEditor`というクラスを用いて分子の吸着位置最適化を行います。\n",
    "\n",
    "<使用方法>\n",
    "\n",
    "1. `SurfaceEditor(atoms).display()` で編集したい構造を表示しましょう。\n",
    "2. atoms z>で動かしたい分子のindexを取得しましょう。1-3で確認したslab構造の最も高い座標より上にいるのが分子です。<br/>設定すると下のボックスに選択された分子のindexのみが入ります。\n",
    "3. move, rotateのXYZ+-で分子のみを移動、角度変更できますので、位置を調整してください。<br/>この際、Ball sizeを調整すると吸着サイトが見やすくなります。\n",
    "4. \"Run mini opt\" ボタンで、BFGSによる構造最適化を指定ステップ実施できます。"
   ]
  },
  {
   "cell_type": "markdown",
   "metadata": {},
   "source": [
    "今回は以下の論文を参考に吸着構造を作成してみます。\n",
    "\n",
    "”First-Principles Microkinetic Analysis of NO + CO Reactions on Rh(111) Surface toward Understanding NOx Reduction Pathways”\n",
    " - https://pubs.acs.org/doi/10.1021/acs.jpcc.8b05906"
   ]
  },
  {
   "cell_type": "markdown",
   "metadata": {},
   "source": [
    "今回の例では、\"X-\"を3回、\"Y+\"を１回、\"Z-\"を４回押すことでHCPサイトの吸着を行うための初期構造を作ることができます。<br/>\n",
    "吸着のFCCサイト、HCPサイトに関しては以下の図をご覧ください。\n",
    "\n",
    "<blockquote>\n",
    "<figure>\n",
    "<img src=\"https://www.researchgate.net/profile/Monica-Pozzo/publication/5521348/figure/fig1/AS:281313635520514@1444081805255/Colour-Possible-adsorption-sites-top-bridge-hollow-hcp-and-hollow-fcc-for-hydrogen.png\"/>\n",
    "<figcaption>(Colour) Possible adsorption sites (top, bridge, hollow-hcp and hollow-fcc) for hydrogen (dark red) on the Mg(0001) surface (light blue).<br/>\n",
    "from <a href=\"https://www.researchgate.net/figure/Colour-Possible-adsorption-sites-top-bridge-hollow-hcp-and-hollow-fcc-for-hydrogen_fig1_5521348\">https://www.researchgate.net/figure/Colour-Possible-adsorption-sites-top-bridge-hollow-hcp-and-hollow-fcc-for-hydrogen_fig1_5521348</a>\n",
    "</figcaption>\n",
    "</figure>\n",
    "</blockquote>"
   ]
  },
  {
   "cell_type": "code",
   "execution_count": null,
   "metadata": {},
   "outputs": [],
   "source": [
    "# SurfaceEditor にはcalculator がSet されている必要があります。\n",
    "mol_on_slab.calc = calculator"
   ]
  },
  {
   "cell_type": "code",
   "execution_count": null,
   "metadata": {},
   "outputs": [],
   "source": [
    "se = SurfaceEditor(mol_on_slab)\n",
    "se.display()"
   ]
  },
  {
   "cell_type": "code",
   "execution_count": null,
   "metadata": {
    "tags": []
   },
   "outputs": [],
   "source": [
    "c = FixAtoms(indices=[atom.index for atom in mol_on_slab if atom.position[2] <= 1])\n",
    "mol_on_slab.set_constraint(c)\n",
    "BFGS_opt = BFGS(mol_on_slab, logfile=None)\n",
    "BFGS_opt.run(fmax=0.005)\n",
    "mol_on_slabE = mol_on_slab.get_potential_energy()\n",
    "print(f\"mol_on_slabE = {mol_on_slabE} eV\")"
   ]
  },
  {
   "cell_type": "code",
   "execution_count": null,
   "metadata": {},
   "outputs": [],
   "source": [
    "os.makedirs(\"ad_structures/\",  exist_ok=True)\n",
    "write(\"ad_structures/mol_on_ZnO.cif\", mol_on_slab)"
   ]
  },
  {
   "cell_type": "markdown",
   "metadata": {},
   "source": [
    "### 2-3 吸着E\n",
    "\n",
    "Slabと分子それぞれが単体で存在していたときのエネルギーと、結合したときのエネルギー差を見ることで、吸着エネルギーが計算できます。\n",
    "\n",
    "上記論文値では、1.79eVとなっています。値がずれているのは、論文ではRPBE汎関数が使われていますが、PFPではPBE汎関数が使われているところの違いが影響していそうです。"
   ]
  },
  {
   "cell_type": "code",
   "execution_count": null,
   "metadata": {},
   "outputs": [],
   "source": [
    "# Calculate adsorption energy\n",
    "adsorpE = slabE + molecE - mol_on_slabE\n",
    "print(f\"Adsorption Energy: {adsorpE} eV\")"
   ]
  },
  {
   "cell_type": "markdown",
   "metadata": {},
   "source": [
    "### 2-4 吸着構造をリスト化"
   ]
  },
  {
   "cell_type": "code",
   "execution_count": null,
   "metadata": {},
   "outputs": [],
   "source": [
    "ad_st_path = \"ad_structures/*\"\n",
    "ad_stru_list = [(filepath, read(filepath)) for filepath in glob.glob(ad_st_path)]"
   ]
  },
  {
   "cell_type": "code",
   "execution_count": null,
   "metadata": {},
   "outputs": [],
   "source": [
    "pd.DataFrame(ad_stru_list)"
   ]
  },
  {
   "cell_type": "code",
   "execution_count": null,
   "metadata": {},
   "outputs": [],
   "source": [
    "No = 0\n",
    "view(ad_stru_list[No][1] , viewer=\"ngl\")"
   ]
  },
  {
   "cell_type": "markdown",
   "metadata": {},
   "source": [
    "### 2-5 IS構造を作る\n",
    "\n",
    "ここでIS構造・FS構造を自分で作成し、NEBを行うための経路を作ります。<br/>\n",
    "今回はこちらで作成しているものを用いるので、 [3. NEB計算](#chap3) に飛んで頂いても構いません。"
   ]
  },
  {
   "cell_type": "code",
   "execution_count": null,
   "metadata": {},
   "outputs": [],
   "source": [
    "filepath, atoms = ad_stru_list[No]\n",
    "print(filepath)\n",
    "IS = atoms.copy()"
   ]
  },
  {
   "cell_type": "code",
   "execution_count": null,
   "metadata": {},
   "outputs": [],
   "source": [
    "IS.calc = calculator\n",
    "SurfaceEditor(IS).display()"
   ]
  },
  {
   "cell_type": "code",
   "execution_count": null,
   "metadata": {},
   "outputs": [],
   "source": [
    "c = FixAtoms(indices=[atom.index for atom in IS if atom.position[2] <= 1])\n",
    "IS.set_constraint(c)\n",
    "BFGS_opt = BFGS(IS, logfile=None)\n",
    "BFGS_opt.run(fmax=0.05)\n",
    "IS.get_potential_energy()"
   ]
  },
  {
   "cell_type": "markdown",
   "metadata": {},
   "source": [
    "### 2-6 FS構造を作る"
   ]
  },
  {
   "cell_type": "code",
   "execution_count": null,
   "metadata": {},
   "outputs": [],
   "source": [
    "FS = IS.copy()"
   ]
  },
  {
   "cell_type": "code",
   "execution_count": null,
   "metadata": {},
   "outputs": [],
   "source": [
    "FS.calc = calculator\n",
    "SurfaceEditor(FS).display()"
   ]
  },
  {
   "cell_type": "code",
   "execution_count": null,
   "metadata": {},
   "outputs": [],
   "source": [
    "FS.calc = calculator\n",
    "c = FixAtoms(indices=[atom.index for atom in FS if atom.position[2] <= 1])\n",
    "FS.set_constraint(c)\n",
    "BFGS_opt = BFGS(FS, logfile=None)\n",
    "BFGS_opt.run(fmax=0.005)\n",
    "FS.get_potential_energy()"
   ]
  },
  {
   "cell_type": "markdown",
   "metadata": {},
   "source": [
    "IS, FS構造を保存"
   ]
  },
  {
   "cell_type": "code",
   "execution_count": null,
   "metadata": {},
   "outputs": [],
   "source": [
    "filepath = Path(filepath).stem\n",
    "# filepath = Path(ad_stru_list[No][0]).stem\n",
    "os.makedirs(filepath, exist_ok=True)\n",
    "write(filepath+\"/IS.cif\", IS)\n",
    "write(filepath+\"/FS.cif\", FS)"
   ]
  },
  {
   "cell_type": "markdown",
   "metadata": {},
   "source": [
    "<a id=\"chap3\"></a>\n",
    "## 3. NEB計算\n",
    "### 3-1 NEB計算\n",
    "\n",
    "今回はこちらで作成した、NO(fcc) -> N(fcc) + O(fcc) への反応に対するNEB計算を行ってみます。<br/>\n",
    "`filepath`を変更することで、NO(fcc) -> N(hcp) + O(hcp) の反応に対するNEB計算も試すことができます。"
   ]
  },
  {
   "cell_type": "code",
   "execution_count": null,
   "metadata": {},
   "outputs": [],
   "source": [
    "!cp -r \"input/NO_dissociation_NO(fcc)_N(fcc)_O(fcc)\" .\n",
    "!cp -r \"input/NO_dissociation_NO(fcc)_N(hcp)_O(hcp)\" ."
   ]
  },
  {
   "cell_type": "code",
   "execution_count": null,
   "metadata": {},
   "outputs": [],
   "source": [
    "filepath = \"mol_on_ZnO\"\n",
    "# filepath = \"NO_dissociation_NO(fcc)_N(hcp)_O(hcp)\""
   ]
  },
  {
   "cell_type": "markdown",
   "metadata": {},
   "source": [
    "作成したIS, FS構造はこの様になっています。"
   ]
  },
  {
   "cell_type": "code",
   "execution_count": null,
   "metadata": {},
   "outputs": [],
   "source": [
    "IS = read(filepath+\"/IS.cif\")\n",
    "FS = read(filepath+\"/FS.cif\")\n",
    "\n",
    "v = view([IS, FS], viewer='ngl')\n",
    "#v.view.add_representation(\"ball+stick\")\n",
    "display(v)"
   ]
  },
  {
   "cell_type": "code",
   "execution_count": null,
   "metadata": {},
   "outputs": [],
   "source": [
    "c = FixAtoms(indices=[atom.index for atom in IS if atom.position[2] <= 1])\n",
    "IS.calc = calculator\n",
    "IS.set_constraint(c)\n",
    "BFGS_opt = BFGS(IS, logfile=None)\n",
    "BFGS_opt.run(fmax=0.005)\n",
    "print(f\"IS {IS.get_potential_energy()} eV\")\n",
    "\n",
    "c = FixAtoms(indices=[atom.index for atom in FS if atom.position[2] <= 1])\n",
    "FS.calc = calculator\n",
    "FS.set_constraint(c)\n",
    "BFGS_opt = BFGS(FS, logfile=None)\n",
    "BFGS_opt.run(fmax=0.005)\n",
    "print(f\"FS {FS.get_potential_energy()} eV\")"
   ]
  },
  {
   "cell_type": "code",
   "execution_count": null,
   "metadata": {},
   "outputs": [],
   "source": [
    "beads = 21"
   ]
  },
  {
   "cell_type": "code",
   "execution_count": null,
   "metadata": {},
   "outputs": [],
   "source": [
    "b0 = IS.copy()\n",
    "b1 = FS.copy()\n",
    "configs = [b0.copy() for i in range(beads-1)] + [b1.copy()]\n",
    "for config in configs:\n",
    "    estimator = Estimator()                     # NEBでparallel=True, allowed_shared_calculator=Falseにする場合に必要\n",
    "    calculator = ASECalculator(estimator)       # NEBでparallel=True, allowed_shared_calculator=Falseにする場合に必要\n",
    "    config.calc = calculator"
   ]
  },
  {
   "cell_type": "code",
   "execution_count": null,
   "metadata": {
    "scrolled": true,
    "tags": []
   },
   "outputs": [],
   "source": [
    "%%time\n",
    "steps=2000\n",
    "\n",
    "# k：ばねの定数　最終的に0.05とか下げた方が安定する。\n",
    "# NEBでparallel = True, allowed_shared_calculator=Falseにしたほうが、他のjobの影響を受けにくいので高速に処理が進みます。\n",
    "neb = NEB(configs, k=0.05, parallel=True, climb=True, allow_shared_calculator=False)   \n",
    "neb.interpolate()\n",
    "relax = FIRE(neb, trajectory=None, logfile=filepath+\"/neb_log.txt\")\n",
    "\n",
    "# fmaxは0.05以下が推奨。小さすぎると収束に時間がかかります。\n",
    "# 一回目のNEB計算は収束条件を緩め（0.2など）で実行し、無理のない反応経路が描けていたら収束条件を厳しくするほうが安定して計算できます。\n",
    "# 緩めの収束条件で異常な反応経路となる場合はIS, FS構造を見直してください。\n",
    "relax.run(fmax=0.1, steps=steps)"
   ]
  },
  {
   "cell_type": "code",
   "execution_count": null,
   "metadata": {
    "tags": []
   },
   "outputs": [],
   "source": [
    "# additional calculation\n",
    "steps=10000\n",
    "relax.run(fmax=0.05, steps=steps)              "
   ]
  },
  {
   "cell_type": "code",
   "execution_count": null,
   "metadata": {},
   "outputs": [],
   "source": [
    "write(filepath+\"/NEB_images.xyz\", configs)"
   ]
  },
  {
   "cell_type": "markdown",
   "metadata": {},
   "source": [
    "<a id=\"chap4\"></a>\n",
    "## 4. NEB計算結果の確認と遷移状態構造取得\n",
    "\n",
    "まずはいくつかの方法で可視化してみます。今回はpng --> gifファイルを作成してみます。"
   ]
  },
  {
   "cell_type": "code",
   "execution_count": null,
   "metadata": {},
   "outputs": [],
   "source": [
    "configs = read(filepath+\"/NEB_images.xyz\", index=\":\")"
   ]
  },
  {
   "cell_type": "code",
   "execution_count": null,
   "metadata": {},
   "outputs": [],
   "source": [
    "for config in configs:\n",
    "    estimator = Estimator()                     # NEBでparallel = True, allowed_shared_calculator=Falseにする場合に必要\n",
    "    calculator = ASECalculator(estimator)       # NEBでparallel = True, allowed_shared_calculator=Falseにする場合に必要\n",
    "    config.calc = calculator"
   ]
  },
  {
   "cell_type": "code",
   "execution_count": null,
   "metadata": {},
   "outputs": [],
   "source": [
    "os.makedirs(filepath + \"/pov_NEB/\", exist_ok=True)\n",
    "os.makedirs(filepath + \"/png_NEB/\", exist_ok=True)\n",
    "\n",
    "for i, atoms in enumerate(configs):\n",
    "    m = atoms.copy()\n",
    "    write(filepath + f\"/pov_NEB/NEB_{i:03}.pov\", m, rotation=\"-60x, 30y, 15z\")\n",
    "    write(filepath + f\"/png_NEB/NEB_{i:03}.png\", m, rotation=\"-60x, 30y, 15z\")"
   ]
  },
  {
   "cell_type": "code",
   "execution_count": null,
   "metadata": {},
   "outputs": [],
   "source": [
    "imgs = []\n",
    "for i in sorted(glob.glob(filepath + \"/png_NEB/*.png\"))[:]:\n",
    "    img = Image.open(i)\n",
    "    img.load()\n",
    "    #img = img.resize((250,480))\n",
    "    bg = Image.new(\"RGB\", img.size, (255, 255, 255))\n",
    "    bg.paste(img, mask=img.split()[3])\n",
    "    imgs.append(bg)\n",
    "\n",
    "imgs[0].save(filepath + \"/gif_NEB.gif\", save_all=True, append_images=imgs[1:], optimize=False, duration=100, loop=0)"
   ]
  },
  {
   "cell_type": "code",
   "execution_count": null,
   "metadata": {},
   "outputs": [],
   "source": [
    "ImageWidget(filepath + \"/gif_NEB.gif\")"
   ]
  },
  {
   "cell_type": "markdown",
   "metadata": {},
   "source": [
    "TS構造となったIndexを確認。<br/>\n",
    "Energy, Forceをみてみると、`index=11` で、エネルギーが最大、Forceが０付近の鞍点に達している事がわかります。"
   ]
  },
  {
   "cell_type": "code",
   "execution_count": null,
   "metadata": {},
   "outputs": [],
   "source": [
    "energies = [config.get_total_energy() for config in configs]\n",
    "plt.plot(range(len(energies)),energies)\n",
    "plt.xlabel(\"replica\")\n",
    "plt.ylabel(\"energy [eV]\")\n",
    "plt.xticks(np.arange(0, len(energies), 2))\n",
    "plt.grid(True)\n",
    "plt.show()"
   ]
  },
  {
   "cell_type": "code",
   "execution_count": null,
   "metadata": {
    "tags": []
   },
   "outputs": [],
   "source": [
    "def calc_max_force(atoms):\n",
    "    return ((atoms.get_forces() ** 2).sum(axis=1).max()) ** 0.5\n",
    "\n",
    "mforces = [calc_max_force(config) for config in configs]\n",
    "plt.plot(range(len(mforces)), mforces)\n",
    "plt.xlabel(\"replica\")\n",
    "plt.ylabel(\"max force [eV]\")\n",
    "plt.xticks(np.arange(0, len(mforces), 2))\n",
    "plt.grid(True)\n",
    "plt.show()"
   ]
  },
  {
   "cell_type": "markdown",
   "metadata": {},
   "source": [
    "初期構造　`index=0` と、遷移状態 `index=11`のエネルギー差を見ることで活性化エネルギーが計算できます。"
   ]
  },
  {
   "cell_type": "code",
   "execution_count": null,
   "metadata": {},
   "outputs": [],
   "source": [
    "ts_index = 11\n",
    "actE = energies[ts_index] - energies[0]\n",
    "deltaE = energies[ts_index] - energies[-1]\n",
    "print(f\"actE {actE} eV, deltaE {deltaE} eV\")"
   ]
  },
  {
   "cell_type": "code",
   "execution_count": null,
   "metadata": {},
   "outputs": [],
   "source": [
    "v = view(configs, viewer='ngl')\n",
    "#v.view.add_representation(\"ball+stick\")\n",
    "display(v)"
   ]
  },
  {
   "cell_type": "markdown",
   "metadata": {},
   "source": [
    "### NEBやり直し\n",
    "\n",
    "実行済みのNEB計算結果から中間イメージのほうが始状態、終状態に適した構造が出た場合に、その構造を抽出して再実行してください。"
   ]
  },
  {
   "cell_type": "code",
   "execution_count": null,
   "metadata": {},
   "outputs": [],
   "source": [
    "# IS2 = configs[9].copy()\n",
    "# FS2 = configs[-1].copy()\n",
    "\n",
    "# c = FixAtoms(indices=[atom.index for atom in IS2 if atom.position[2] <= 1])\n",
    "# IS2.calc = calculator\n",
    "# IS2.set_constraint(c)\n",
    "# BFGS_opt = BFGS(IS2, logfile=None)\n",
    "# BFGS_opt.run(fmax=0.005)\n",
    "# print(IS2.get_potential_energy())\n",
    "\n",
    "# c = FixAtoms(indices=[atom.index for atom in FS2 if atom.position[2] <= 1])\n",
    "# FS2.calc = calculator\n",
    "# FS2.set_constraint(c)\n",
    "# BFGS_opt = BFGS(FS2, logfile=None)\n",
    "# BFGS_opt.run(fmax=0.005)\n",
    "# print(FS2.get_potential_energy())"
   ]
  },
  {
   "cell_type": "code",
   "execution_count": null,
   "metadata": {},
   "outputs": [],
   "source": [
    "# write(filepath+\"/IS2.cif\", IS2)\n",
    "# write(filepath+\"/FS2.cif\", FS2)"
   ]
  },
  {
   "cell_type": "code",
   "execution_count": null,
   "metadata": {},
   "outputs": [],
   "source": [
    "# v = view([IS2, FS2], viewer='ngl')\n",
    "# #v.view.add_representation(\"ball+stick\")\n",
    "# display(v)"
   ]
  },
  {
   "cell_type": "code",
   "execution_count": null,
   "metadata": {},
   "outputs": [],
   "source": [
    "# beads = 21\n",
    "# b0 = IS2.copy()\n",
    "# b1 = FS2.copy()\n",
    "# configs = [b0.copy() for i in range(beads-1)] + [b1.copy()]\n",
    "# for config in configs:\n",
    "#     estimator = Estimator()                     # NEBでparallel=True, allowed_shared_calculator=Falseにする場合に必要\n",
    "#     calculator = ASECalculator(estimator)       # NEBでparallel=True, allowed_shared_calculator=Falseにする場合に必要\n",
    "#     config.calc = calculator"
   ]
  },
  {
   "cell_type": "code",
   "execution_count": null,
   "metadata": {},
   "outputs": [],
   "source": [
    "# %%time\n",
    "# steps=2000\n",
    "\n",
    "# neb = NEB(configs, k=0.05, parallel=True, climb=True, allow_shared_calculator=False)   #k：ばねの定数　最終的に0.05とか下げた方が安定する。\n",
    "#                     # NEBでparallel = True, allowed_shared_calculator=Falseにしたほうが、他のjobの影響を受けにくいので高速に処理が進みます。\n",
    "# neb.interpolate()\n",
    "# relax = FIRE(neb, trajectory=None, logfile=filepath+\"/neb_log_2.txt\")\n",
    "\n",
    "# relax.run(fmax=0.05, steps=steps)              "
   ]
  },
  {
   "cell_type": "code",
   "execution_count": null,
   "metadata": {},
   "outputs": [],
   "source": [
    "# write(filepath+\"/NEB_images2.xyz\", configs)"
   ]
  },
  {
   "cell_type": "code",
   "execution_count": null,
   "metadata": {},
   "outputs": [],
   "source": [
    "# os.makedirs(filepath + \"/pov_NEB2/\", exist_ok=True)\n",
    "# os.makedirs(filepath + \"/png_NEB2/\", exist_ok=True)\n",
    "\n",
    "# for h,i in enumerate(configs):\n",
    "#     m = i.copy()\n",
    "#     write(filepath + '/pov_NEB2/NEB_' + str(h).zfill(3) + '.pov', m, rotation='-60x, 30y, 15z')\n",
    "#     write(filepath + '/png_NEB2/NEB_' + str(h).zfill(3) + '.png', m, rotation='-60x, 30y, 15z')"
   ]
  },
  {
   "cell_type": "code",
   "execution_count": null,
   "metadata": {},
   "outputs": [],
   "source": [
    "# imgs = []\n",
    "# for i in sorted(glob.glob(filepath + \"/png_NEB2/*.png\"))[:]:\n",
    "#     img = Image.open(i)\n",
    "#     img.load()\n",
    "#     #img = img.resize((250,480))\n",
    "#     bg = Image.new(\"RGB\", img.size, (255, 255, 255))\n",
    "#     bg.paste(img, mask=img.split()[3])\n",
    "#     imgs.append(bg)\n",
    "\n",
    "# imgs[0].save(filepath + \"/gif_NEB_2.gif\", save_all=True, append_images=imgs[1:], optimize=False, duration=100, loop=0)"
   ]
  },
  {
   "cell_type": "code",
   "execution_count": null,
   "metadata": {},
   "outputs": [],
   "source": [
    "# energies = [config.get_total_energy() for config in configs]\n",
    "# plt.plot(range(len(energies)),energies)\n",
    "# plt.xlabel(\"replica\")\n",
    "# plt.ylabel(\"energy [eV]\")\n",
    "# plt.xticks(np.arange(0, beads, 2))\n",
    "# plt.grid(True)\n",
    "# plt.show()"
   ]
  },
  {
   "cell_type": "code",
   "execution_count": null,
   "metadata": {},
   "outputs": [],
   "source": [
    "# mforces = [config.get_forces().max() for config in configs]\n",
    "# plt.plot(range(len(mforces)),mforces)\n",
    "# plt.xlabel(\"replica\")\n",
    "# plt.ylabel(\"max force [eV]\")\n",
    "# plt.xticks(np.arange(0, beads, 2))\n",
    "# plt.grid(True)\n",
    "# plt.show()"
   ]
  },
  {
   "cell_type": "code",
   "execution_count": null,
   "metadata": {},
   "outputs": [],
   "source": [
    "# energies[13] - energies[0]"
   ]
  },
  {
   "cell_type": "code",
   "execution_count": null,
   "metadata": {},
   "outputs": [],
   "source": [
    "# v = view(configs, viewer='ngl')\n",
    "# #v.view.add_representation(\"ball+stick\")\n",
    "# display(v)"
   ]
  },
  {
   "cell_type": "markdown",
   "metadata": {},
   "source": [
    " "
   ]
  },
  {
   "cell_type": "markdown",
   "metadata": {},
   "source": [
    "<a id=\"chap5\"></a>\n",
    "## 5. 遷移状態構造の構造最適化（by Sella）\n",
    "\n",
    "前章で得られたTS構造は、厳密な鞍点まで収束させる操作が入っていません。\n",
    "ここでは、[sella](https://github.com/zadorlab/sella) というライブラリを用いて、TS構造を収束させます。"
   ]
  },
  {
   "cell_type": "code",
   "execution_count": null,
   "metadata": {},
   "outputs": [],
   "source": [
    "TSNo = 11\n",
    "TS = configs[TSNo].copy()\n",
    "c = FixAtoms(indices=[atom.index for atom in TS if atom.position[2] <= 1])\n",
    "TS.set_constraint(c)"
   ]
  },
  {
   "cell_type": "code",
   "execution_count": null,
   "metadata": {},
   "outputs": [],
   "source": [
    "# 原子のz_positionを確認。\n",
    "z_pos = pd.DataFrame({\n",
    "    \"symbol\": TS.get_chemical_symbols(),\n",
    "    \"z\": TS.get_positions()[:, 2]\n",
    "})\n",
    "\n",
    "plt.scatter(z_pos.index, z_pos[\"z\"])\n",
    "plt.grid(True)\n",
    "plt.xlabel(\"atom_index\")\n",
    "plt.ylabel(\"z_position\")\n",
    "#plt.ylim(14,22)\n",
    "plt.show()"
   ]
  },
  {
   "cell_type": "code",
   "execution_count": null,
   "metadata": {
    "scrolled": true
   },
   "outputs": [],
   "source": [
    "TS.calc = calculator  \n",
    "TSopt = Sella(TS)         # SellaでTSopt\n",
    "%time TSopt.run(fmax=0.05)\n",
    "potentialenergy = TS.get_potential_energy()\n",
    "print (TS.get_potential_energy(), TS.get_forces().max())"
   ]
  },
  {
   "cell_type": "code",
   "execution_count": null,
   "metadata": {},
   "outputs": [],
   "source": [
    "write(filepath + \"/TS_opt.cif\", TS)"
   ]
  },
  {
   "cell_type": "code",
   "execution_count": null,
   "metadata": {},
   "outputs": [],
   "source": [
    "# TSopt前後の構造を比較\n",
    "v = view([configs[TSNo], TS], viewer='ngl')\n",
    "v.view.add_representation(\"ball+stick\")\n",
    "display(v)"
   ]
  },
  {
   "cell_type": "markdown",
   "metadata": {},
   "source": [
    "<a id=\"chap6\"></a>\n",
    "## 6. 遷移状態の振動解析"
   ]
  },
  {
   "cell_type": "code",
   "execution_count": null,
   "metadata": {},
   "outputs": [],
   "source": [
    "# 振動計算で解析する元素はz_pos >= zzとする。\n",
    "vibatoms = z_pos[z_pos[\"z\"] >= 7.0].index\n",
    "vibatoms"
   ]
  },
  {
   "cell_type": "code",
   "execution_count": null,
   "metadata": {
    "scrolled": true
   },
   "outputs": [],
   "source": [
    "# 振動計算\n",
    "\n",
    "vibpath = filepath + \"/TS_vib/vib\"\n",
    "os.makedirs(vibpath, exist_ok=True)\n",
    "vib = Vibrations(TS, name=vibpath, indices=vibatoms)          # 振動計算する元素はココでvibatomsとして指定する。\n",
    "vib.run()\n",
    "vib_energies = vib.get_energies()\n",
    "\n",
    "thermo = IdealGasThermo(vib_energies=vib_energies,\n",
    "                        potentialenergy=potentialenergy,\n",
    "                        atoms=TS,\n",
    "                        geometry='linear',     #'monatomic', 'linear', or 'nonlinear'\n",
    "                        symmetrynumber=2, spin=0, natoms=len(vibatoms))\n",
    "G = thermo.get_gibbs_energy(temperature=298.15, pressure=101325.)"
   ]
  },
  {
   "cell_type": "code",
   "execution_count": null,
   "metadata": {
    "scrolled": true
   },
   "outputs": [],
   "source": [
    "vib.summary()"
   ]
  },
  {
   "cell_type": "code",
   "execution_count": null,
   "metadata": {},
   "outputs": [],
   "source": [
    "vib.summary(log=filepath+\"/vib_summary.txt\")"
   ]
  },
  {
   "cell_type": "code",
   "execution_count": null,
   "metadata": {},
   "outputs": [],
   "source": [
    "# 各振動モードの表示用のtrajファイルを出力します。\n",
    "vib.write_mode(n=0, kT=300*kB, nimages=30)\n",
    "vib.clean()"
   ]
  },
  {
   "cell_type": "code",
   "execution_count": null,
   "metadata": {},
   "outputs": [],
   "source": [
    "n = 0      # summary tableを見ながら表示したい振動モードの番号を入力してください。\n",
    "vib_traj = Trajectory(vibpath + f\".{n}.traj\")\n",
    "v = view(vib_traj, viewer='ngl')\n",
    "v.view.add_representation(\"ball+stick\")\n",
    "display(v)"
   ]
  },
  {
   "cell_type": "code",
   "execution_count": null,
   "metadata": {},
   "outputs": [],
   "source": [
    "write(filepath + \"/vib_traj.xyz\", vib_traj)"
   ]
  },
  {
   "cell_type": "code",
   "execution_count": null,
   "metadata": {},
   "outputs": [],
   "source": [
    "vib_traj = read(filepath + \"/vib_traj.xyz\", index=\":\")"
   ]
  },
  {
   "cell_type": "code",
   "execution_count": null,
   "metadata": {},
   "outputs": [],
   "source": [
    "os.makedirs(filepath + \"/pov_VIB/\", exist_ok=True)\n",
    "os.makedirs(filepath + \"/png_VIB/\", exist_ok=True)\n",
    "\n",
    "for h,i in enumerate(vib_traj):\n",
    "    m = i.copy()\n",
    "    write(filepath + f\"/pov_VIB/VIB_{h:03}.pov\", m, rotation='-60x, 30y, 15z')\n",
    "    write(filepath + f\"/png_VIB/VIB_{h:03}.png\", m, rotation='-60x, 30y, 15z')"
   ]
  },
  {
   "cell_type": "code",
   "execution_count": null,
   "metadata": {},
   "outputs": [],
   "source": [
    "# 虚振動になっているか確認する。真ん中(と0)がTS。\n",
    "\n",
    "vib_energies = []\n",
    "for i in vib_traj:\n",
    "    i.calc = calculator\n",
    "    vib_energies.append(i.get_potential_energy())\n",
    "plt.plot(range(len(vib_energies)), vib_energies)\n",
    "plt.grid(True)\n",
    "plt.show()"
   ]
  },
  {
   "cell_type": "markdown",
   "metadata": {},
   "source": [
    " "
   ]
  },
  {
   "cell_type": "markdown",
   "metadata": {},
   "source": [
    "<a id=\"chap7\"></a>\n",
    "## 7. 遷移状態からの追加解析（擬似IRC計算）試作中"
   ]
  },
  {
   "cell_type": "code",
   "execution_count": null,
   "metadata": {},
   "outputs": [],
   "source": [
    "from ase.optimize.basin import BasinHopping\n",
    "from ase.optimize.minimahopping import MinimaHopping"
   ]
  },
  {
   "cell_type": "code",
   "execution_count": null,
   "metadata": {},
   "outputs": [],
   "source": [
    "TS = read(\"mol_on_Rh(111)/TS_opt.cif\")\n",
    "TS.calc = calculator"
   ]
  },
  {
   "cell_type": "code",
   "execution_count": null,
   "metadata": {
    "scrolled": true
   },
   "outputs": [],
   "source": [
    "# 虚振動モードの真ん中の両隣の構造を持ってきてBFGSで最適化するだけ。\n",
    "c = FixAtoms(indices=[atom.index for atom in vib_traj[15] if atom.position[2] <= 1])\n",
    "\n",
    "IRC_IS = vib_traj[14].copy()\n",
    "IRC_IS.calc = calculator\n",
    "IRC_IS.set_constraint(c)\n",
    "# opt = BFGS(IRC_IS, logfile=None, maxstep=1)\n",
    "# opt.run(fmax=0.5)\n",
    "opt = BasinHopping(IRC_IS, temperature=300 * kB, dr=0.5, optimizer=LBFGS, fmax=0.005,)\n",
    "print (\"IS_done\")\n",
    "\n",
    "IRC_FS = vib_traj[16].copy()\n",
    "IRC_FS.calc = calculator\n",
    "IRC_FS.set_constraint(c)\n",
    "# opt = BFGS(IRC_FS, logfile=None, maxstep=1)\n",
    "# opt.run(fmax=0.5)\n",
    "opt = BasinHopping(IRC_FS, temperature=300 * kB, dr=0.5, optimizer=LBFGS, fmax=0.005,)\n",
    "print (\"FS_done\")"
   ]
  },
  {
   "cell_type": "code",
   "execution_count": null,
   "metadata": {},
   "outputs": [],
   "source": [
    "# 虚振動モードの真ん中の両隣の構造を持ってきてBFGSで最適化するだけ。\n",
    "c = FixAtoms(indices=[atom.index for atom in TS if atom.position[2] <= 1])\n",
    "\n",
    "IRC_IS = vib_traj[14].copy()\n",
    "IRC_IS.calc = calculator\n",
    "IRC_IS.set_constraint(c)\n",
    "opt = BFGS(IRC_IS, logfile=None, maxstep=0.5)\n",
    "opt.run(fmax=0.005, steps=500)\n",
    "print (\"IS_BFGS_done\")\n",
    "opt = MinimaHopping(IRC_IS, T0=0, fmax=0.005,)\n",
    "opt(totalsteps=10)\n",
    "print (\"IS_MH_done\")\n",
    "\n",
    "IRC_FS = vib_traj[16].copy()\n",
    "IRC_FS.calc = calculator\n",
    "IRC_FS.set_constraint(c)\n",
    "opt = BFGS(IRC_FS, logfile=None, maxstep=0.5)\n",
    "opt.run(fmax=0.005, steps=500)\n",
    "print (\"FS_BFGS_done\")\n",
    "#opt = MinimaHopping(IRC_FS, T0=0, fmax=0.005,)\n",
    "#opt(totalsteps=10)\n",
    "print (\"FS_MH_done\")"
   ]
  },
  {
   "cell_type": "code",
   "execution_count": null,
   "metadata": {},
   "outputs": [],
   "source": [
    "v = view([IRC_IS, TS, IRC_FS], viewer='ngl')\n",
    "v.view.add_representation(\"ball+stick\")\n",
    "display(v)"
   ]
  },
  {
   "cell_type": "markdown",
   "metadata": {},
   "source": [
    " "
   ]
  },
  {
   "cell_type": "code",
   "execution_count": null,
   "metadata": {
    "tags": []
   },
   "outputs": [],
   "source": [
    "# NEBで計算したIS, TS, FSのenergyとTSopt+IRCの結果を比較する。\n",
    "plt.plot([0,1,2], [configs[0].get_potential_energy(), configs[TSNo].get_potential_energy(), configs[-1].get_potential_energy()], label=\"NEB\")\n",
    "plt.plot([0,1,2], [IRC_IS.get_potential_energy(), TS.get_potential_energy(), IRC_FS.get_potential_energy()], label=\"TSopt+IRC\")\n",
    "plt.legend()\n",
    "plt.grid(True)\n",
    "plt.show()"
   ]
  },
  {
   "cell_type": "code",
   "execution_count": null,
   "metadata": {},
   "outputs": [],
   "source": [
    "print(TS.get_potential_energy() - IRC_IS.get_potential_energy())\n",
    "print(TS.get_potential_energy() - IRC_FS.get_potential_energy())"
   ]
  },
  {
   "cell_type": "code",
   "execution_count": null,
   "metadata": {},
   "outputs": [],
   "source": [
    "write(filepath + \"/IS_IRC.xyz\",IRC_IS)\n",
    "write(filepath + \"/FS_IRC.xyz\",IRC_FS)"
   ]
  }
 ],
 "metadata": {
  "kernelspec": {
   "display_name": "1: Python 3.11",
   "language": "python",
   "name": "python311"
  },
  "language_info": {
   "codemirror_mode": {
    "name": "ipython",
    "version": 3
   },
   "file_extension": ".py",
   "mimetype": "text/x-python",
   "name": "python",
   "nbconvert_exporter": "python",
   "pygments_lexer": "ipython3",
   "version": "3.11.11"
  },
  "widgets": {
   "application/vnd.jupyter.widget-state+json": {
    "state": {},
    "version_major": 2,
    "version_minor": 0
   }
  }
 },
 "nbformat": 4,
 "nbformat_minor": 4
}
