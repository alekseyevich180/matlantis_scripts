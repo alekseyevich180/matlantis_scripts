{
 "cells": [
  {
   "cell_type": "code",
   "execution_count": null,
   "id": "828f74f9-cfa6-4bf7-b992-ed54e54465c8",
   "metadata": {},
   "outputs": [],
   "source": [
    "!pip install -U optuna\n",
    "#!pip install -U pfp-api-client\n",
    "#!pip install pfcc_extras\n",
    "!pip install -U pfp-api-client matlantis-features\n",
    "!pip install pfcc-extras-v0.11.1.zip\n",
    "!pip install pfcc-ase-extras-v0.3.0.zip\n",
    "#In addition, please install `pfcc_extras`."
   ]
  },
  {
   "cell_type": "code",
   "execution_count": null,
   "id": "bf28880f-c6f0-4844-96ba-4559de2b517c",
   "metadata": {},
   "outputs": [],
   "source": [
    "import io\n",
    "import os\n",
    "import tempfile\n",
    "\n",
    "from ase import Atoms\n",
    "from ase.build import bulk, fcc111, molecule, add_adsorbate\n",
    "from ase.constraints import ExpCellFilter, StrainFilter\n",
    "from ase.io import write, read\n",
    "from ase.io.jsonio import write_json, read_json\n",
    "from ase.optimize import LBFGS, FIRE\n",
    "from IPython.display import Image\n",
    "import matplotlib.pyplot as plt\n",
    "import matplotlib.image as mpimg\n",
    "import numpy as np\n",
    "import optuna\n",
    "from ase.visualize import view\n",
    "\n",
    "\n",
    "import pfp_api_client\n",
    "from pfp_api_client.pfp.calculators.ase_calculator import ASECalculator\n",
    "from pfp_api_client.pfp.estimator import Estimator, EstimatorCalcMode\n",
    "\n",
    "from pfcc_extras.visualize.view import view_ngl\n",
    "from pfcc_extras.visualize.ase import view_ase_atoms\n",
    "\n",
    "print(f\"pfp_api_client: {pfp_api_client.__version__}\")\n",
    "\n",
    "# estimator = Estimator(calc_mode=EstimatorCalcMode.CRYSTAL, model_version=\"latest\")\n",
    "estimator = Estimator(calc_mode=EstimatorCalcMode.CRYSTAL_U0, model_version=\"v3.0.0\")\n",
    "calculator = ASECalculator(estimator)"
   ]
  },
  {
   "cell_type": "code",
   "execution_count": null,
   "id": "7351bc80-3ff5-4281-8e66-51f7d597e214",
   "metadata": {},
   "outputs": [],
   "source": [
    "def get_opt_energy(atoms, fmax=0.001, opt_mode: str = \"normal\"):    \n",
    "    atoms.set_calculator(calculator)\n",
    "    if opt_mode == \"scale\":\n",
    "        opt1 = LBFGS(StrainFilter(atoms, mask=[1, 1, 1, 0, 0, 0]), logfile=None)\n",
    "    elif opt_mode == \"all\":\n",
    "        opt1 = LBFGS(ExpCellFilter(atoms), logfile=None)\n",
    "    else:\n",
    "        opt1 = LBFGS(atoms, logfile=None)\n",
    "    opt1.run(fmax=fmax)\n",
    "    return atoms.get_total_energy()"
   ]
  },
  {
   "cell_type": "code",
   "execution_count": null,
   "id": "003ac445-8e00-4a2e-a7ff-859164615f8b",
   "metadata": {},
   "outputs": [],
   "source": [
    "# y = x^2 (0 <= x <= 1)を最小化する例\n",
    "def objective(trial):\n",
    "    x = trial.suggest_float(\"x\", 0, 1)\n",
    "    return x ** 2\n",
    "\n",
    "study = optuna.create_study()\n",
    "study.optimize(objective, n_trials=30)\n",
    "optuna.visualization.plot_optimization_history(study)"
   ]
  },
  {
   "cell_type": "code",
   "execution_count": null,
   "id": "bfafe545-775a-40fb-be49-f4af69d2a6aa",
   "metadata": {},
   "outputs": [],
   "source": [
    "#bulk_atoms = bulk(\"Pt\", cubic=True)\n",
    "#bulk_atoms.calc = calculator\n",
    "#E_bulk = get_opt_energy(bulk_atoms, fmax=1e-4, opt_mode=\"scale\")\n",
    "#E_bulk"
   ]
  },
  {
   "cell_type": "code",
   "execution_count": null,
   "id": "dfc958a0-1faa-47c2-a658-d2c89808e944",
   "metadata": {},
   "outputs": [],
   "source": [
    "#build structure\n",
    "def create_slab():\n",
    "    a = np.mean(np.diag(bulk_atoms.cell))\n",
    "    slab =  fcc111(\"Pt\", a=a, size=(4, 4, 4), vacuum=40.0, periodic=True)\n",
    "    slab.calc = calculator\n",
    "    E_slab = get_opt_energy(slab, fmax=1e-4, opt_mode=\"normal\")\n",
    "    return slab, E_slab \n",
    "\n",
    "#slab, E_slab = create_slab()\n",
    "#view_ngl(slab, representations=[\"ball+stick\"])\n",
    "\n",
    "def create_mol():\n",
    "    mol = molecule(\"CO\")\n",
    "    mol.calc = calculator\n",
    "    E_mol = get_opt_energy(mol, fmax=1e-4)\n",
    "    return mol, E_mol\n",
    "\n",
    "#mol, E_mol = create_mol()\n",
    "#view_ngl(mol, representations=[\"ball+stick\"])\n",
    "\n",
    "def already_slab():\n",
    "    slab = read(\"surface.cif\")\n",
    "    slab.calc = calculator\n",
    "    E_slab = get_opt_energy(slab, fmax=1e-4, opt_mode=\"normal\")\n",
    "    return slab, E_slab \n",
    "slab, E_slab = already_slab()\n",
    "view_ngl(slab, representations=[\"ball+stick\"])\n"
   ]
  },
  {
   "cell_type": "code",
   "execution_count": null,
   "id": "3b1df6e9-c850-48fa-ac3a-46375d339fba",
   "metadata": {},
   "outputs": [],
   "source": [
    "def already_mol():\n",
    "    mol = read(\"2-ketone.cif\")\n",
    "    mol.calc = calculator\n",
    "    E_mol = get_opt_energy(mol, fmax=1e-4)\n",
    "    return mol, E_mol\n",
    "mol, E_mol = already_mol()\n",
    "view_ngl(mol, representations=[\"ball+stick\"])\n",
    "    "
   ]
  },
  {
   "cell_type": "code",
   "execution_count": null,
   "id": "537b4754-e0b2-4f77-9794-afc4dca80806",
   "metadata": {},
   "outputs": [],
   "source": [
    "#search ads for big mol\n",
    "import io\n",
    "\n",
    "def atoms_to_json(atoms):\n",
    "    f = io.StringIO()\n",
    "    write(f, atoms, format=\"json\")\n",
    "    return f.getvalue()\n",
    "\n",
    "\n",
    "def json_to_atoms(atoms_str):\n",
    "    return read(io.StringIO(atoms_str), format=\"json\")"
   ]
  },
  {
   "cell_type": "code",
   "execution_count": null,
   "id": "f015d49d-ad47-42c4-b8c0-3be9441434e8",
   "metadata": {},
   "outputs": [],
   "source": [
    "mol_json_str = atoms_to_json(mol)\n",
    "mol2 = json_to_atoms(mol_json_str)\n",
    "\n",
    "print(f\"{mol_json_str=}\")\n",
    "view_ngl(mol2, representations=[\"ball+stick\"])"
   ]
  },
  {
   "cell_type": "code",
   "execution_count": null,
   "id": "3ed7da38-f058-4d09-915c-94f93d8a4908",
   "metadata": {},
   "outputs": [],
   "source": [
    "def objective(trial):\n",
    "    slab = json_to_atoms(trial.study.user_attrs[\"slab\"])\n",
    "    E_slab = trial.study.user_attrs[\"E_slab\"]\n",
    "    \n",
    "    mol = json_to_atoms(trial.study.user_attrs[\"mol\"])\n",
    "    E_mol = trial.study.user_attrs[\"E_mol\"]\n",
    "    \n",
    "    phi = 180. * trial.suggest_float(\"phi\", -1, 1)\n",
    "    theta = np.arccos(trial.suggest_float(\"theta\", -1, 1))*180./np.pi\n",
    "    psi = 180 * trial.suggest_float(\"psi\", -1, 1)\n",
    "    x_pos = trial.suggest_float(\"x_pos\", 0, 0.5)\n",
    "    y_pos = trial.suggest_float(\"y_pos\", 0, 0.5)\n",
    "    z_hig = trial.suggest_float(\"z_hig\", 1, 5)\n",
    "    xy_position=np.matmul([x_pos,y_pos,0], slab.cell)[:2]\n",
    "    mol.euler_rotate(phi=phi, theta=theta, psi=psi)\n",
    "    \n",
    "    add_adsorbate(slab, mol, z_hig, xy_position)\n",
    "    E_slab_mol = get_opt_energy(slab, fmax=1e-3)\n",
    "    \n",
    "    trial.set_user_attr(\"structure\", atoms_to_json(slab))\n",
    "    \n",
    "    return E_slab_mol - E_slab - E_mol\n",
    "\n",
    "\n",
    "study = optuna.create_study()\n",
    "\n",
    "slab, E_slab = already_slab()\n",
    "study.set_user_attr(\"slab\", atoms_to_json(slab))\n",
    "study.set_user_attr(\"E_slab\", E_slab)\n",
    "\n",
    "mol, E_mol = already_mol()\n",
    "study.set_user_attr(\"mol\", atoms_to_json(mol))\n",
    "study.set_user_attr(\"E_mol\", E_mol)\n",
    "\n",
    "study.optimize(objective, n_trials=30)\n",
    "print(f\"Best trial is #{study.best_trial.number}\")\n",
    "print(f\"    Its adsorption energy is {study.best_value}\")\n",
    "print(f\"    Its adsorption position is\")\n",
    "print(f\"        phi  : {study.best_params['phi']}\")\n",
    "print(f\"        theta: {study.best_params['theta']}\")\n",
    "print(f\"        psi. : {study.best_params['psi']}\")\n",
    "print(f\"        x_pos: {study.best_params['x_pos']}\")\n",
    "print(f\"        y_pos: {study.best_params['y_pos']}\")\n",
    "print(f\"        z_hig: {study.best_params['z_hig']}\")"
   ]
  },
  {
   "cell_type": "code",
   "execution_count": null,
   "id": "3dbd4205-6227-4e88-a056-9e38d2c963b5",
   "metadata": {},
   "outputs": [],
   "source": [
    "#use optuna\n",
    "optuna.visualization.plot_optimization_history(study)"
   ]
  },
  {
   "cell_type": "code",
   "execution_count": null,
   "id": "3802eb6e-81a3-4d74-a51d-4d0d2ba1416a",
   "metadata": {},
   "outputs": [],
   "source": [
    "optuna.visualization.plot_slice(study)"
   ]
  },
  {
   "cell_type": "code",
   "execution_count": null,
   "id": "3190bbf4-153b-4c4f-b71d-b5e7c83b3e23",
   "metadata": {},
   "outputs": [],
   "source": [
    "slab = json_to_atoms(study.best_trial.user_attrs[\"structure\"])\n",
    "view_ngl(slab, representations=[\"ball+stick\"])"
   ]
  },
  {
   "cell_type": "code",
   "execution_count": null,
   "id": "5f386299-7375-4ef8-ac6c-be5297d7d8d6",
   "metadata": {},
   "outputs": [],
   "source": [
    "os.makedirs(\"output\", exist_ok=True)\n",
    "\n",
    "fig, axes = plt.subplots(len(study.trials) // 10, 10, figsize=(20, 10))\n",
    "for trial in study.trials:\n",
    "    slab = json_to_atoms(trial.user_attrs[\"structure\"])\n",
    "    write(f\"output/{trial.number}.png\", slab, rotation=\"0x,0y,90z\")\n",
    "    ax = axes[trial.number // 10][trial.number % 10]\n",
    "    ax.imshow(mpimg.imread(f\"output/{trial.number}.png\"))\n",
    "    ax.set_axis_off()\n",
    "    ax.set_title(trial.number)\n",
    "fig.show()"
   ]
  },
  {
   "cell_type": "code",
   "execution_count": null,
   "id": "3bbd5dcc-bfa2-4a1f-95a9-b58426fc73fd",
   "metadata": {},
   "outputs": [],
   "source": [
    "slabs = []\n",
    "for trial in study.trials:\n",
    "    slab = json_to_atoms(trial.user_attrs[\"structure\"])\n",
    "    slabs.append(slab)\n",
    "view_ngl(slabs, representations=[\"ball+stick\"], replace_structure=True)"
   ]
  },
  {
   "cell_type": "code",
   "execution_count": null,
   "id": "30415aa1-4cbf-4d9d-b83b-786b9e6b6ee9",
   "metadata": {},
   "outputs": [],
   "source": [
    "import os\n",
    "from ase.build import molecule\n",
    "from ase.io import write\n",
    "import optuna\n",
    "\n",
    "# —— 1. 分子名称列表 —— #\n",
    "mol_names = [\"2-ketone\", \"3-ketone\", \"4-ketone\", \"5-ketone\"] \n",
    "\n",
    "# —— 2. 循环处理每一个分子 —— #\n",
    "for mol_name in mol_names:\n",
    "    # 2.1 创建输出目录，以分子名称命名\n",
    "    outdir = os.path.join(\"results\", mol_name)\n",
    "    os.makedirs(outdir, exist_ok=True)\n",
    "\n",
    "    slab, E_slab = already_slab()\n",
    "    study.set_user_attr(\"slab\", atoms_to_json(slab))\n",
    "    study.set_user_attr(\"E_slab\", E_slab)\n",
    "\n",
    "    mol, E_mol = already_mol()\n",
    "    study.set_user_attr(\"mol\", atoms_to_json(mol))\n",
    "    study.set_user_attr(\"E_mol\", E_mol)\n",
    "\n",
    "    # 2.4 新建 Optuna study，并存入 user_attrs\n",
    "    study = optuna.create_study(direction=\"minimize\")\n",
    "    study.set_user_attr(\"slab\", atoms_to_json(slab))\n",
    "    study.set_user_attr(\"E_slab\", E_slab)\n",
    "    study.set_user_attr(\"mol\", atoms_to_json(mol))\n",
    "    study.set_user_attr(\"E_mol\", E_mol)\n",
    "\n",
    "    # 2.5 运行优化（可根据需求调整试验次数）\n",
    "    study.optimize(objective, n_trials=30)\n",
    "\n",
    "    # 2.6 拿到最优结果\n",
    "    best = study.best_trial\n",
    "    params = best.params\n",
    "\n",
    "    # 2.7 用最优参数构建吸附结构\n",
    "    best_slab = build_adsorbed_structure(slab, mol, params)\n",
    "\n",
    "    # 2.8 保存结构文件，直接用分子名称作为文件名\n",
    "    outfile = os.path.join(outdir, f\"best_ads_{mol_name}.cif\")\n",
    "    write(outfile, best_slab)\n",
    "\n",
    "    # 2.9 打印进度\n",
    "    print(f\"[{mol_name}] 最优能量 {best.value:.4f} eV，结构已保存到 {outfile}\")\n"
   ]
  }
 ],
 "metadata": {
  "kernelspec": {
   "display_name": "1: Python 3.11",
   "language": "python",
   "name": "python311"
  },
  "language_info": {
   "codemirror_mode": {
    "name": "ipython",
    "version": 3
   },
   "file_extension": ".py",
   "mimetype": "text/x-python",
   "name": "python",
   "nbconvert_exporter": "python",
   "pygments_lexer": "ipython3",
   "version": "3.11.11"
  }
 },
 "nbformat": 4,
 "nbformat_minor": 5
}
